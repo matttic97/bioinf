{
 "cells": [
  {
   "cell_type": "code",
   "execution_count": 1,
   "metadata": {},
   "outputs": [],
   "source": [
    "from Bio import Entrez\n",
    "from Bio.Seq import Seq\n",
    "import numpy as np\n",
    "\n",
    "import matplotlib\n",
    "import matplotlib.pyplot as plt\n",
    "\n",
    "matplotlib.rcParams[\"legend.frameon\"] = False\n",
    "%matplotlib inline"
   ]
  },
  {
   "cell_type": "markdown",
   "metadata": {},
   "source": [
    "Let's let the nice folks at NCBI know who we are."
   ]
  },
  {
   "cell_type": "code",
   "execution_count": 2,
   "metadata": {},
   "outputs": [],
   "source": [
    "Entrez.email = \"mi6568@student.uni-lj.si\""
   ]
  },
  {
   "cell_type": "code",
   "execution_count": 3,
   "metadata": {},
   "outputs": [],
   "source": [
    "# In order to import from the python file without hassle, we add the current\n",
    "# directory to the python path\n",
    "import sys; sys.path.append(\".\")\n",
    "from helper_functions import load_record, extract_gt_orfs, find_all_orfs, translate_to_protein, codons, permutate, find_all_orfs_nested"
   ]
  },
  {
   "cell_type": "markdown",
   "metadata": {},
   "source": [
    "# Paramecium tetraurelia\n",
    "\n",
    "Paramecia are unicellular organisms, which move around using cilia. Cilia are like little hairs attached to the cell membrane, which the animal can vibrate to move around.\n",
    "\n",
    "![](https://upload.wikimedia.org/wikipedia/commons/b/bd/Инфузория_туфелька_поедает_бактерии%21.gif)\n",
    "\n",
    "Paramecia are widespread in freshwater, brackish, and marine environments and are often very abundant in stagnant basins and ponds. If you want, you can read more about them on [Wikipedia](https://en.wikipedia.org/wiki/Paramecium).\n",
    "\n",
    "This is a model organism, meaning it has been very thoroughly studied. This means we can easily check our work for any analysis we might do because we have the ground truth, which biologists have spent decades gathering for us. We're going to examine the DNA sequence of Paramecium and write a program to find gene candidates. Because we have the ground truth, we can then check how many of our ORF candidates are actually genes.\n",
    "\n",
    "Every organism in NCBI has an associated unique identifier, which we can use to download various genomes and other kinds of data to our computer. The NCBI ID for Paramecium is _NC_006058_."
   ]
  },
  {
   "cell_type": "code",
   "execution_count": 4,
   "metadata": {},
   "outputs": [],
   "source": [
    "organism_id = \"NC_006058\"  # Paramecium tetraurelia"
   ]
  },
  {
   "cell_type": "markdown",
   "metadata": {},
   "source": [
    "Fetch the Paramecium genome from NCBI. To check you have the right one, the genome should be 984,602 bases long.\n",
    "\n",
    "_Hint_: Use the `Entrez.efetch` (http://biopython.org/DIST/docs/tutorial/Tutorial.html#sec149) and `SeqIO.read` (http://biopython.org/DIST/docs/tutorial/Tutorial.html#sec37) functions from biopython."
   ]
  },
  {
   "cell_type": "code",
   "execution_count": 5,
   "metadata": {},
   "outputs": [
    {
     "name": "stdout",
     "output_type": "stream",
     "text": [
      "ID: NC_006058.1\n",
      "Name: NC_006058\n",
      "Description: Paramecium tetraurelia macronuclear, complete genome\n",
      "Database cross-references: Project:12726, BioProject:PRJNA12726\n",
      "Number of features: 1397\n",
      "/molecule_type=DNA\n",
      "/topology=linear\n",
      "/data_file_division=INV\n",
      "/date=03-MAY-2010\n",
      "/accessions=['NC_006058']\n",
      "/sequence_version=1\n",
      "/keywords=['RefSeq', 'macronuclear chromosome']\n",
      "/source=Paramecium tetraurelia strain d4-2\n",
      "/organism=Paramecium tetraurelia strain d4-2\n",
      "/taxonomy=['Eukaryota', 'Sar', 'Alveolata', 'Ciliophora', 'Intramacronucleata', 'Oligohymenophorea', 'Peniculida', 'Parameciidae', 'Paramecium']\n",
      "/references=[Reference(title='High coding density on the largest Paramecium tetraurelia somatic chromosome', ...), Reference(title='Paramecium megabase sequencing project', ...), Reference(title='Direct Submission', ...), Reference(title='Direct Submission', ...)]\n",
      "/comment=PROVISIONAL REFSEQ: This record has not yet been subject to final\n",
      "NCBI review. The reference sequence was derived from CR548612.\n",
      "Seq('GTTTATATTTTTACACTGTTTCCATCCTTATTTTCAAAAAAAAATTTACAATTT...CTT') \n",
      "len:  984602\n"
     ]
    }
   ],
   "source": [
    "# TODO\n",
    "record = load_record(organism_id)\n",
    "print(record, \"\\nlen: \", len(record.seq))"
   ]
  },
  {
   "cell_type": "markdown",
   "metadata": {},
   "source": [
    "## Problem 1: Finding gene candidates\n",
    "\n",
    "Find all the open reading frames (ORFs) in the genome. We define an ORF to be the longest contiguous sequence of triplets (codons) between a start and a stop codon. For instance, TTATGAAAATGAAATGATT contains one ORF -- ATGAAAATGAAATGA spanning from locations 2 to 17.\n",
    "\n",
    "**TASK:**\n",
    "Implement the `find_orfs` and `find_all_orfs` functions in `helper_functions.py`. `find_orfs` should find ORFs for a single offset e.g. [ATGTAATGTTGATTA]TG, ignoring the final TG. `find_all_orfs` should use `find_orfs` to find _all_ the ORFs in a sequence, i.e. [ATGTAATGTTGATTA]TG, A[TGTAATGTTGATTAT]G, AT[GTAATGTTGATTATG], as well as the ORFs on the reverse complements. See the docstrings for expected return types. **[10 points]**\n",
    "\n",
    "Hint: The number of ORFs on the positive and negative strands should be roughly equal."
   ]
  },
  {
   "cell_type": "code",
   "execution_count": 6,
   "metadata": {},
   "outputs": [],
   "source": [
    "# Paramecium is a bit special and uses only a single stop codon\n",
    "start_codons = [\"ATG\"]\n",
    "stop_codons = [\"TGA\"]"
   ]
  },
  {
   "cell_type": "code",
   "execution_count": 7,
   "metadata": {},
   "outputs": [
    {
     "name": "stdout",
     "output_type": "stream",
     "text": [
      "Finding ORFs using start/stop codons...\n",
      "16646 ORF candidates found\n"
     ]
    }
   ],
   "source": [
    "print(\"Finding ORFs using start/stop codons...\")\n",
    "orf_candidates = find_all_orfs(record.seq, start_codons, stop_codons)\n",
    "print(f\"{len(orf_candidates)} ORF candidates found\")"
   ]
  },
  {
   "cell_type": "markdown",
   "metadata": {},
   "source": [
    "## Problem 2: Finding true genes\n",
    "\n",
    "We now have quite a large number of ORF candidates. Some of these might be true genes, some may not. In practice, biologists will often look through each ORF manually to determine if it is a gene or not. We want to help them by reducing the number of ORFs they'll have to look through. The simplest way to reduce this number is to simply set a threshold for our ORF lengths. As you saw in lectures, we can determine a sensible threshold using a permutation test.\n",
    "\n",
    "**TASK:**\n",
    "\n",
    "**a)** Perform a permutation test with 100 repetitions and plot the distribution of ORF lengths in these random sequences. Overlay this with the ORF lengths you found using your ORF finder. Determine a threshold such that we keep only sequences with $p < 0.01$. Clearly mark this threshold on your plot. Save your threshold into the `bacteria_threshold` variable and save your plot into `problem2-permutation.png`.\n",
    "**[5 points]**\n",
    "\n",
    "Hint: For plotting, you can use the [`hist`](https://matplotlib.org/stable/api/_as_gen/matplotlib.pyplot.hist.html) function from [matplotlib](https://matplotlib.org/stable/index.html). You may also consider using the log-scale for the y-axis."
   ]
  },
  {
   "cell_type": "code",
   "execution_count": 8,
   "metadata": {},
   "outputs": [
    {
     "data": {
      "text/plain": [
       "3558.0"
      ]
     },
     "execution_count": 8,
     "metadata": {},
     "output_type": "execute_result"
    }
   ],
   "source": [
    "# TODO\n",
    "orf_lengths = np.array([oc[2]-oc[1] for oc in orf_candidates])/3\n",
    "np.max(orf_lengths)"
   ]
  },
  {
   "cell_type": "code",
   "execution_count": 9,
   "metadata": {},
   "outputs": [
    {
     "data": {
      "image/png": "[encoded data removed]",
      "text/plain": [
       "<Figure size 864x432 with 1 Axes>"
      ]
     },
     "metadata": {
      "needs_background": "light"
     },
     "output_type": "display_data"
    }
   ],
   "source": [
    "fig, ax = plt.subplots(figsize=(12, 6), sharex=True)\n",
    "hist_kwargs = dict(bins=list(range(0, 3700, 1000)), edgecolor=\"k\", lw=1.2)\n",
    "ax.hist(orf_lengths, color=\"tab:blue\", label=\"Predicted\", **hist_kwargs)\n",
    "ax.set_xlabel(\"Number of codons\"), ax.set_ylabel(\"Frequency\")\n",
    "ax.legend()\n",
    "ax.set_yscale(\"log\")\n",
    "plt.tight_layout();"
   ]
  },
  {
   "cell_type": "code",
   "execution_count": 10,
   "metadata": {},
   "outputs": [
    {
     "name": "stdout",
     "output_type": "stream",
     "text": [
      "255.0\n"
     ]
    }
   ],
   "source": [
    "bacteria_threshold = -1\n",
    "orf_s_lengths = permutate(record.seq, start_codons, stop_codons)\n",
    "orf_s_lengths = np.sort(orf_s_lengths)\n",
    "bacteria_threshold = orf_s_lengths[int(0.99*len(orf_s_lengths))]\n",
    "print(bacteria_threshold)"
   ]
  },
  {
   "cell_type": "code",
   "execution_count": 11,
   "metadata": {},
   "outputs": [],
   "source": [
    "bacteria_threshold = 254"
   ]
  },
  {
   "cell_type": "code",
   "execution_count": 12,
   "metadata": {},
   "outputs": [
    {
     "data": {
      "image/png": "[encoded data removed]",
      "text/plain": [
       "<Figure size 864x432 with 1 Axes>"
      ]
     },
     "metadata": {
      "needs_background": "light"
     },
     "output_type": "display_data"
    }
   ],
   "source": [
    "fig, ax = plt.subplots(figsize=(12, 6), sharex=True)\n",
    "hist_kwargs = dict(bins=list(range(0, 3700, 20)), lw=1.2)\n",
    "ax.hist(orf_s_lengths, color=\"tab:red\", label=\"Permutated\", **hist_kwargs)\n",
    "ax.set_xlabel(\"Number of codons\"), ax.set_ylabel(\"Frequency\")\n",
    "ax.hist(orf_lengths, color=\"tab:blue\", label=\"Predicted\", **hist_kwargs)\n",
    "ax.set_xlabel(\"Number of codons\"), ax.set_ylabel(\"Frequency\")\n",
    "ax.axvline(x=bacteria_threshold, color='k', label=\"Treshod=254\")\n",
    "ax.legend()\n",
    "ax.set_yscale(\"log\")\n",
    "plt.tight_layout();\n",
    "plt.savefig('problem2-permutation.png')"
   ]
  },
  {
   "cell_type": "markdown",
   "metadata": {},
   "source": [
    "Is this a good threshold? As we said in the beginning, Paramecium tetraurelia is a well-studied organism, so we can easily compare our filtered ORFs with the ground truth ORFs. There are many metrics we can use to evaluate our accuracy, but here, we'll focus on three: precision, recall, and the F1 score (please consult Wikipedia if you aren't familiar with these metrics). By using the threshold we determined in **a)**, we can discard all the ORFs that are shorter than our threshold. We can then compare this to the ground truth ORFs.\n",
    "\n",
    "Could a different threshold give better precision/recall/F1 scores? Again, we can check. We'll generate a list of possible thresholds, and compute precision/recall/F1 scores for each of the thresholds. Plot all three metrics into a single figure. Clearly mark the permutation test threshold. Is the permutation test threshold good? Could we determine a better threshold?\n",
    "\n",
    "**TASK:**\n",
    "\n",
    "**b)** Plot the precision/recall/F1 curves for other possible thresholds into a single figure. Clearly mark the permutation test threshold. Save the resulting figure to `problem2-proc.png`. Write down any observations and answers to the above questions into the `bacteria_comments` variable.\n",
    "**[5 points]**\n",
    "\n",
    "We start by extracting the ground truth genes from the NCBI record that we downloaded earlier. Please use the provided `extract_gt_orfs` function in `helper_functions.py` to extract the ground truth coding regions."
   ]
  },
  {
   "cell_type": "code",
   "execution_count": 13,
   "metadata": {},
   "outputs": [
    {
     "name": "stdout",
     "output_type": "stream",
     "text": [
      "Extracting ORFs from NCBI annotation...\n",
      "90 ground truth ORFs found\n"
     ]
    }
   ],
   "source": [
    "print(\"Extracting ORFs from NCBI annotation...\")\n",
    "orfs_gt = extract_gt_orfs(record, start_codons, stop_codons, verbose=False)\n",
    "print(f\"{len(orfs_gt)} ground truth ORFs found\")"
   ]
  },
  {
   "cell_type": "code",
   "execution_count": 14,
   "metadata": {},
   "outputs": [],
   "source": [
    "gt_orf_length = np.array([c[2] - c[1] for c in orfs_gt]) / 3"
   ]
  },
  {
   "cell_type": "code",
   "execution_count": 15,
   "metadata": {},
   "outputs": [
    {
     "name": "stdout",
     "output_type": "stream",
     "text": [
      "566 0.2289156626506024\n"
     ]
    }
   ],
   "source": [
    "# TODO\n",
    "predictons = []\n",
    "recalls = []\n",
    "f1s = []\n",
    "subset = np.array(orf_candidates)\n",
    "trashhold = int(max(gt_orf_length))\n",
    "for i in range(trashhold):\n",
    "    lenghts = np.array([c[2] - c[1] for c in subset]) / 3\n",
    "    ind = np.where(lenghts[:] > i)\n",
    "    subset = subset[ind]\n",
    "    tp = len(np.intersect1d(subset, orfs_gt))\n",
    "    predicton = tp / len(subset)\n",
    "    recall = tp / len(orfs_gt)\n",
    "    predictons.append(predicton)\n",
    "    recalls.append(recall)\n",
    "    f1s.append(2 * predicton * recall / (predicton + recall))\n",
    "    \n",
    "    \n",
    "trashholds = range(trashhold)\n",
    "print(trashholds[np.argmax(f1s)], max(f1s))\n",
    "trashhold = 566"
   ]
  },
  {
   "cell_type": "code",
   "execution_count": 35,
   "metadata": {},
   "outputs": [
    {
     "data": {
      "image/png": "[encoded data removed]",
      "text/plain": [
       "<Figure size 864x432 with 1 Axes>"
      ]
     },
     "metadata": {
      "needs_background": "light"
     },
     "output_type": "display_data"
    }
   ],
   "source": [
    "plt.figure(figsize=(12,6))\n",
    "text= \"Trashold = {:.3f} (f1 value = {:.3f})\".format(trashhold, max(f1s))\n",
    "plt.plot(trashholds, predictons, label='Prediction')\n",
    "plt.plot(trashholds, recalls, label='Recall')\n",
    "plt.plot(trashholds, f1s, label='F1')\n",
    "plt.ylabel('Score')\n",
    "plt.xlabel('ORF length threshold')\n",
    "plt.axvline(x=trashhold, color='k', label=text)\n",
    "plt.axvline(x=bacteria_threshold, color='k', label=\"Treshod=254\")\n",
    "plt.legend(loc='best')\n",
    "plt.savefig('problem2-proc.png')\n",
    "plt.show()"
   ]
  },
  {
   "cell_type": "code",
   "execution_count": 17,
   "metadata": {},
   "outputs": [],
   "source": [
    "\n",
    "bacteria_comments = \"\"\"\n",
    "Yes, the trashold we got with perutation test could be better. I choose 566 for (new) trashold, because in that point f1 function has the highest value (0.229)\n",
    "\"\"\""
   ]
  },
  {
   "cell_type": "markdown",
   "metadata": {},
   "source": [
    "# SARS-CoV-2\n",
    "\n",
    "SARS-CoV-2 is the prolific virus that causes the COVID-19 disease. I am sure most of you are well aware of what the disease does, so we'll skip any long-winded introduction. Instead, we'll jump straight into the genome of this pesky little virus.\n",
    "\n",
    "![](https://www.klinika-golnik.si/storage/_sites/golnik/app/media/Novice/cov-19.jpg)"
   ]
  },
  {
   "cell_type": "markdown",
   "metadata": {},
   "source": [
    "First, we need to obtain the viral genome from NCBI."
   ]
  },
  {
   "cell_type": "code",
   "execution_count": 18,
   "metadata": {},
   "outputs": [],
   "source": [
    "organism_id = \"NC_045512\"  # SARS-CoV-2"
   ]
  },
  {
   "cell_type": "code",
   "execution_count": 19,
   "metadata": {},
   "outputs": [
    {
     "name": "stdout",
     "output_type": "stream",
     "text": [
      "ID: NC_045512.2\n",
      "Name: NC_045512\n",
      "Description: Severe acute respiratory syndrome coronavirus 2 isolate Wuhan-Hu-1, complete genome\n",
      "Database cross-references: BioProject:PRJNA485481\n",
      "Number of features: 57\n",
      "/molecule_type=ss-RNA\n",
      "/topology=linear\n",
      "/data_file_division=VRL\n",
      "/date=18-JUL-2020\n",
      "/accessions=['NC_045512']\n",
      "/sequence_version=2\n",
      "/keywords=['RefSeq']\n",
      "/source=Severe acute respiratory syndrome coronavirus 2 (SARS-CoV-2)\n",
      "/organism=Severe acute respiratory syndrome coronavirus 2\n",
      "/taxonomy=['Viruses', 'Riboviria', 'Orthornavirae', 'Pisuviricota', 'Pisoniviricetes', 'Nidovirales', 'Cornidovirineae', 'Coronaviridae', 'Orthocoronavirinae', 'Betacoronavirus', 'Sarbecovirus']\n",
      "/references=[Reference(title='A new coronavirus associated with human respiratory disease in China', ...), Reference(title='Programmed ribosomal frameshifting in decoding the SARS-CoV genome', ...), Reference(title='The structure of a rigorously conserved RNA element within the SARS virus genome', ...), Reference(title=\"A phylogenetically conserved hairpin-type 3' untranslated region pseudoknot functions in coronavirus RNA replication\", ...), Reference(title='Direct Submission', ...), Reference(title='Direct Submission', ...)]\n",
      "/comment=REVIEWED REFSEQ: This record has been curated by NCBI staff. The\n",
      "reference sequence is identical to MN908947.\n",
      "On Jan 17, 2020 this sequence version replaced NC_045512.1.\n",
      "Annotation was added using homology to SARSr-CoV NC_004718.3. ###\n",
      "Formerly called 'Wuhan seafood market pneumonia virus.' If you have\n",
      "questions or suggestions, please email us at info@ncbi.nlm.nih.gov\n",
      "and include the accession number NC_045512.### Protein structures\n",
      "can be found at\n",
      "https://www.ncbi.nlm.nih.gov/structure/?term=sars-cov-2.### Find\n",
      "all other Severe acute respiratory syndrome coronavirus 2\n",
      "(SARS-CoV-2) sequences at\n",
      "https://www.ncbi.nlm.nih.gov/genbank/sars-cov-2-seqs/\n",
      "COMPLETENESS: full length.\n",
      "/structured_comment=OrderedDict([('Assembly-Data', OrderedDict([('Assembly Method', 'Megahit v. V1.1.3'), ('Sequencing Technology', 'Illumina')]))])\n",
      "Seq('ATTAAAGGTTTATACCTTCCCAGGTAACAAACCAACCAACTTTCGATCTCTTGT...AAA') \n",
      "len:  29903\n"
     ]
    }
   ],
   "source": [
    "# TODO\n",
    "record = load_record(organism_id)\n",
    "print(record, \"\\nlen: \", len(record.seq))"
   ]
  },
  {
   "cell_type": "markdown",
   "metadata": {},
   "source": [
    "## Problem 3: SARS-CoV-2 gene candidates\n",
    "\n",
    "_You_ are now the biologist. This time we have no ground truth annotations about SARS-CoV-2 from NCBI, so it is up to you to find potential gene candidates and try to determine what each gene does.\n",
    "\n",
    "**TASK:**\n",
    "Run your ORF finder on the SARS-CoV-2 genome. Again, using a permutation test with 100 repetitions, determine a threshold for ORF lengths such that we keep only sequences with $p < 0.01$. Plot the distribution of ORF lengths in the random sequences and overlay this with your ORF lengths. Clearly mark the permutation test threshold. Save your plot to `problem3.png`. Save your threshold into the `covid_threshold` variable.\n",
    "**[5 points]**"
   ]
  },
  {
   "cell_type": "code",
   "execution_count": 20,
   "metadata": {},
   "outputs": [],
   "source": [
    "start_codons = [\"ATG\"]\n",
    "stop_codons = [\"TAA\", \"TAG\", \"TGA\"]"
   ]
  },
  {
   "cell_type": "code",
   "execution_count": 21,
   "metadata": {},
   "outputs": [
    {
     "name": "stdout",
     "output_type": "stream",
     "text": [
      "Finding ORFs using start/stop codons...\n",
      "711 ORF candidates found\n"
     ]
    }
   ],
   "source": [
    "# TODO\n",
    "print(\"Finding ORFs using start/stop codons...\")\n",
    "sars_orf_candidates = find_all_orfs(record.seq, start_codons, stop_codons)\n",
    "print(f\"{len(sars_orf_candidates)} ORF candidates found\")"
   ]
  },
  {
   "cell_type": "code",
   "execution_count": 22,
   "metadata": {},
   "outputs": [
    {
     "name": "stdout",
     "output_type": "stream",
     "text": [
      "69.0\n"
     ]
    }
   ],
   "source": [
    "covid_threshold = -1\n",
    "orf_s_lengths = permutate(record.seq, start_codons, stop_codons)\n",
    "orf_s_lengths = np.sort(orf_s_lengths)\n",
    "covid_threshold = orf_s_lengths[int(0.99*len(orf_s_lengths))]\n",
    "print(covid_threshold)"
   ]
  },
  {
   "cell_type": "code",
   "execution_count": 23,
   "metadata": {},
   "outputs": [
    {
     "data": {
      "image/png": "[encoded data removed]",
      "text/plain": [
       "<Figure size 864x432 with 1 Axes>"
      ]
     },
     "metadata": {
      "needs_background": "light"
     },
     "output_type": "display_data"
    }
   ],
   "source": [
    "orf_lengths = np.array([oc[2]-oc[1] for oc in sars_orf_candidates])/3\n",
    "fig, ax = plt.subplots(figsize=(12, 6), sharex=True)\n",
    "hist_kwargs = dict(bins=list(range(0, 3000)), lw=1.2)\n",
    "ax.hist(orf_s_lengths, color=\"tab:red\", label=\"Permutated\", **hist_kwargs)\n",
    "ax.set_xlabel(\"Number of codons\"), ax.set_ylabel(\"Frequency\")\n",
    "ax.hist(orf_lengths, color=\"tab:blue\", label=\"Predicted\", **hist_kwargs)\n",
    "ax.set_xlabel(\"Number of codons\"), ax.set_ylabel(\"Frequency\")\n",
    "ax.axvline(x=covid_threshold, color='k', label=\"Treshod=69\")\n",
    "ax.legend()\n",
    "ax.set_yscale(\"log\")\n",
    "ax.set_xscale(\"log\")\n",
    "plt.tight_layout();\n",
    "plt.savefig('problem3.png')"
   ]
  },
  {
   "cell_type": "code",
   "execution_count": 24,
   "metadata": {},
   "outputs": [],
   "source": [
    "covid_threshold = 69\n",
    "covid_subset = np.array(sars_orf_candidates)[orf_lengths[:] >= covid_threshold]"
   ]
  },
  {
   "cell_type": "markdown",
   "metadata": {},
   "source": [
    "## Problem 4: Determining gene functionality\n",
    "\n",
    "In the final problem, you will use NCBIs online blastp tool to determine whether or not each ORF you found is an actual gene, and if it is -- what it does.\n",
    "\n",
    "BLASTp is a sequence alignment tool that you will learn about in the upcoming lectures and explore in more detail in the next homework. But for now, you can think of it like this: given a protein sequence, BLASTp looks through the genomes of all known animals and sees if there are any parts of the protein sequence that match the different animal sequences. This works because genes from closely related organisms usually don't differ all that much and perform the same function in different organisms. For example, if we have some gene from a brown labrador puppy, we can reasonably expect that gene to have a fairly similar nucleotide sequence (and consequently protein sequence) to that same gene in black labrador puppies. Or in the case SARS-CoV-2, the gene nucleotide sequences will probably be similar to the sequences of related coronaviruses."
   ]
  },
  {
   "cell_type": "markdown",
   "metadata": {},
   "source": [
    "![](https://www.economist.com/img/b/1000/563/90/sites/default/files/20200314_FBD001.jpg)"
   ]
  },
  {
   "cell_type": "markdown",
   "metadata": {},
   "source": [
    "**TASK**:\n",
    "\n",
    "**a)** Translate each of your filtered ORFs into the corresponding protein sequence. Implement the `translate_to_protein` function in `helper_functions.py`. Do not use Biopython for this in this homework -- we want you to implement this yourself. Stop codons should translate into an empty string (\"\"). **[5 points]**\n",
    "\n",
    "**b)** Run each protein sequence through [NCBI BLASTp](https://blast.ncbi.nlm.nih.gov/Blast.cgi?PROGRAM=blastp&PAGE_TYPE=BlastSearch&LINK_LOC=blasthome). Look at the picture of the SARS-CoV-2 virus above, and try to match each of the ORFs you found to a protein type, e.g. ORF1 may be a spike protein, or ORF5 might be an envelope protein. Save your answers into the `covid_proteins` variable as a dictionary of lists, where the dictionary keys are what you see in the picture. The lists should hold the tuples specifying the appropriate ORFs in the same format that is returned by `find_all_orfs`. **[10 points]**\n",
    "\n",
    "You should be able to determine where most proteins go by their names alone. Please do not go digging through the _COMMENT_ field, as that often contains complicated biological terminology and might mislead you. The goal is to find at least 3 proteins that you can confidently determine by name alone. You will be penalized for each incorrect answer. In case your filtering returns a large number of ORFs (which it shouldn't), you may want to look at the longest ORFs first, as these are more likely to be true genes.\n",
    "\n",
    "You might also find [EMBLs Protein Similarity Search](https://www.ebi.ac.uk/Tools/sss/fasta/) useful. The descriptions there sometimes tend to be more readable."
   ]
  },
  {
   "cell_type": "code",
   "execution_count": 25,
   "metadata": {},
   "outputs": [],
   "source": [
    "# TODO\n",
    "covid_proteins_a = []\n",
    "for orf in covid_subset:\n",
    "    if orf[0] == 1:\n",
    "        covid_proteins_a.append(translate_to_protein(record.seq[orf[1]:orf[2]]))\n",
    "    else:\n",
    "        reverse = record.seq[orf[1]:orf[2]].reverse_complement()\n",
    "        covid_proteins_a.append(translate_to_protein(reverse))"
   ]
  },
  {
   "cell_type": "code",
   "execution_count": 26,
   "metadata": {},
   "outputs": [],
   "source": [
    "covid_proteins = {\n",
    "    \"Envelope protein\": [(1, 26244, 26472)],\n",
    "    \"Membrane protein\": [(1, 26522, 27191)],\n",
    "    \"Spike protein\": [(1, 21535, 25384)],\n",
    "    \"Nucleocapsid protein\": [(1, 28273, 29533)],\n",
    "    \"Lipid membrane\": [],\n",
    "}"
   ]
  },
  {
   "cell_type": "code",
   "execution_count": 27,
   "metadata": {},
   "outputs": [
    {
     "name": "stdout",
     "output_type": "stream",
     "text": [
      "Envelope protein : MYSFVSEETGTLIVNSVLLFLAFVVFLLVTLAILTALRLCAYCCNIVNVSLVKPSFYVYSRVKNLNSSRVPDLLV\n",
      "Membrane protein : MADSNGTITVEELKKLLEQWNLVIGFLFLTWICLLQFAYANRNRFLYIIKLIFLWLLWPVTLACFVLAAVYRINWITGGIAIAMACLVGLMWLSYFIASFRLFARTRSMWSFNPETNILLNVPLHGTILTRPLLESELVIGAVILRGHLRIAGHHLGRCDIKDLPKEITVATSRTLSYYKLGASQRVAGDSGFAAYSRYRIGNYKLNTDHSSSSDNIALLVQ\n",
      "Spike protein : MFLLTTKRTMFVFLVLLPLVSSQCVNLTTRTQLPPAYTNSFTRGVYYPDKVFRSSVLHSTQDLFLPFFSNVTWFHAIHVSGTNGTKRFDNPVLPFNDGVYFASTEKSNIIRGWIFGTTLDSKTQSLLIVNNATNVVIKVCEFQFCNDPFLGVYYHKNNKSWMESEFRVYSSANNCTFEYVSQPFLMDLEGKQGNFKNLREFVFKNIDGYFKIYSKHTPINLVRDLPQGFSALEPLVDLPIGINITRFQTLLALHRSYLTPGDSSSGWTAGAAAYYVGYLQPRTFLLKYNENGTITDAVDCALDPLSETKCTLKSFTVEKGIYQTSNFRVQPTESIVRFPNITNLCPFGEVFNATRFASVYAWNRKRISNCVADYSVLYNSASFSTFKCYGVSPTKLNDLCFTNVYADSFVIRGDEVRQIAPGQTGKIADYNYKLPDDFTGCVIAWNSNNLDSKVGGNYNYLYRLFRKSNLKPFERDISTEIYQAGSTPCNGVEGFNCYFPLQSYGFQPTNGVGYQPYRVVVLSFELLHAPATVCGPKKSTNLVKNKCVNFNFNGLTGTGVLTESNKKFLPFQQFGRDIADTTDAVRDPQTLEILDITPCSFGGVSVITPGTNTSNQVAVLYQDVNCTEVPVAIHADQLTPTWRVYSTGSNVFQTRAGCLIGAEHVNNSYECDIPIGAGICASYQTQTNSPRRARSVASQSIIAYTMSLGAENSVAYSNNSIAIPTNFTISVTTEILPVSMTKTSVDCTMYICGDSTECSNLLLQYGSFCTQLNRALTGIAVEQDKNTQEVFAQVKQIYKTPPIKDFGGFNFSQILPDPSKPSKRSFIEDLLFNKVTLADAGFIKQYGDCLGDIAARDLICAQKFNGLTVLPPLLTDEMIAQYTSALLAGTITSGWTFGAGAALQIPFAMQMAYRFNGIGVTQNVLYENQKLIANQFNSAIGKIQDSLSSTASALGKLQDVVNQNAQALNTLVKQLSSNFGAISSVLNDILSRLDKVEAEVQIDRLITGRLQSLQTYVTQQLIRAAEIRASANLAATKMSECVLGQSKRVDFCGKGYHLMSFPQSAPHGVVFLHVTYVPAQEKNFTTAPAICHDGKAHFPREGVFVSNGTHWFVTQRNFYEPQIITTDNTFVSGNCDVVIGIVNNTVYDPLQPELDSFKEELDKYFKNHTSPDVDLGDISGINASVVNIQKEIDRLNEVAKNLNESLIDLQELGKYEQYIKWPWYIWLGFIAGLIAIVMVTIMLCCMTSCCSCLKGCCSCGSCCKFDEDDSEPVLKGVKLHYT\n",
      "Nucleocapsid protein : MSDNGPQNQRNAPRITFGGPSDSTGSNQNGERSGARSKQRRPQGLPNNTASWFTALTQHGKEDLKFPRGQGVPINTNSSPDDQIGYYRRATRRIRGGDGKMKDLSPRWYFYYLGTGPEAGLPYGANKDGIIWVATEGALNTPKDHIGTRNPANNAAIVLQLPQGTTLPKGFYAEGSRGGSQASSRSSSRSRNSSRNSTPGSSRGTSPARMAGNGGDAALALLLLDRLNQLESKMSGKGQQQQGQTVTKKSAAEASKKPRQKRTATKAYNVTQAFGRRGPEQTQGNFGDQELIRQGTDYKHWPQIAQFAPSASAFFGMSRIGMEVTPSGTWLTYTGAIKLDDKDPNFKDQVILLNKHIDAYKTFPPTEPKKDKKKKADETQALPQRQKKQQTVTLLPAADLDDFSKQLQQSMSSADSTQA\n"
     ]
    }
   ],
   "source": [
    "for p in covid_proteins:\n",
    "    if covid_proteins[p] != []:\n",
    "        print(p, ':', covid_proteins_a[np.where(covid_subset[:, 1] == covid_proteins[p][0][1])[0][0]])"
   ]
  },
  {
   "cell_type": "markdown",
   "metadata": {},
   "source": [
    "## Bonus problem: Visualizing ORF candidates\n",
    "\n",
    "You may have noticed in problem 2 that even when keeping all the genes, our recall was well below 1. This means that even without any filtering, we weren't able to find all the ORFs that are actually genes. The reason for this is that we defined ORFs to be the longest contiguous sequence of codons between a start and a stop codon. This is a simplification of what really happens in biology. Not all start codons actually determine the beginning of a coding (gene) sequence. ORFs themselves can contain start codons since the ATG codon itself codes for Methionine. To be completely thorough, each start codon should start its own ORF.\n",
    "\n",
    "In this exercise, we will define an ORF to be **any** contiguous sequence of codons between a start and a stop codon. For instance, ATGAAAATGAAATGA now contains two ORFs: ATGAAAATGAAATGA and ATGAAATGA.\n",
    "\n",
    "**TASK**: Implement the `find_all_orfs_nested` function in `helper_functions.py`, following the above definition of an ORF.\n",
    "Visualize where on the genome the ORF candidates are found. Highlight which of the ORF candidates are true genes. Save your plot to `problem-orf-viz.png`. **[5 points]**\n",
    "\n",
    "You can look at this image for a general direction: https://www.ncbi.nlm.nih.gov/nuccore/NC_002549.1?report=graph. You don't need to worry about optimizing the layout -- putting each ORF candidate in its own row is fine. Bonus points if you do optimize the layout though :) If you have a different idea for the visualization, that's even better. Feel free to apply any kind of filtering to the ORFs you plot."
   ]
  },
  {
   "cell_type": "code",
   "execution_count": 28,
   "metadata": {},
   "outputs": [
    {
     "name": "stdout",
     "output_type": "stream",
     "text": [
      "Finding ORFs using start/stop codons...\n",
      "378974 ORF candidates found\n"
     ]
    }
   ],
   "source": [
    "# TODO\n",
    "print(\"Finding ORFs using start/stop codons...\")\n",
    "sars_orf_candidates_nested = find_all_orfs_nested(record.seq, start_codons, stop_codons)\n",
    "print(f\"{len(sars_orf_candidates_nested)} ORF candidates found\")"
   ]
  },
  {
   "cell_type": "code",
   "execution_count": 29,
   "metadata": {},
   "outputs": [
    {
     "name": "stdout",
     "output_type": "stream",
     "text": [
      "Extracting ORFs from NCBI annotation...\n",
      "11 ground truth ORFs found\n"
     ]
    }
   ],
   "source": [
    "print(\"Extracting ORFs from NCBI annotation...\")\n",
    "orfs_gt = extract_gt_orfs(record, start_codons, stop_codons, verbose=False)\n",
    "print(f\"{len(orfs_gt)} ground truth ORFs found\")"
   ]
  },
  {
   "cell_type": "code",
   "execution_count": 30,
   "metadata": {},
   "outputs": [
    {
     "data": {
      "text/plain": [
       "23"
      ]
     },
     "execution_count": 30,
     "metadata": {},
     "output_type": "execute_result"
    }
   ],
   "source": [
    "inters = np.intersect1d(orfs_gt, sars_orf_candidates_nested)\n",
    "len(inters)"
   ]
  },
  {
   "cell_type": "markdown",
   "metadata": {},
   "source": [
    "## Bonus problem: How big are viruses?\n",
    "\n",
    "How does SARS-CoV-2 compare to other viruses? Is it a small or large virus? We can't really say without a reference. Thankfully, NCBI has us covered. NCBI Virus is a subset of NCBI dedicated only to viral sequences. To determine the size of SARS-CoV-2, we'll download a bunch of viral sequences and simply compare the lengths of their genomes. We could compare other things as well e.g. the number of genes, but it's sufficient to compare the sequence lengths for this homework.\n",
    "\n",
    "**TASK**: Download all complete virus genomes from [NCBI Virus](https://www.ncbi.nlm.nih.gov/labs/virus/vssi/#/virus). There are around 10,000 of them. Create an informative visualization of the distribution of virus sequence lengths. Clearly mark the length of the SARS-CoV-2 virus. Save your plot to `problem-virus-size.png`. Is the virus short or long compared to other viruses? Do anything else stand out? Save your answers in the `virus_size_comments` variable. **[5 points]**\n",
    "\n",
    "Potential questions you might want to answer might be is the number of DNA vs number of RNA viruses. Which are more prevalent? Is any type of virus longer than other types? Where do other viruses fall in this distribution? Some potentially interesting viruses might be SARS and MERS (we heard that SARS-CoV-2 is closely related to those two), ebola, HIV, the common cold, hepatitis a/b/c, ..."
   ]
  },
  {
   "cell_type": "code",
   "execution_count": 31,
   "metadata": {},
   "outputs": [],
   "source": [
    "# TODO"
   ]
  },
  {
   "cell_type": "code",
   "execution_count": 32,
   "metadata": {},
   "outputs": [],
   "source": [
    "virus_size_comments = \"\"\"\n",
    "\"\"\""
   ]
  },
  {
   "cell_type": "code",
   "execution_count": null,
   "metadata": {},
   "outputs": [],
   "source": []
  }
 ],
 "metadata": {
  "kernelspec": {
   "display_name": "Python 3 (ipykernel)",
   "language": "python",
   "name": "python3"
  },
  "language_info": {
   "codemirror_mode": {
    "name": "ipython",
    "version": 3
   },
   "file_extension": ".py",
   "mimetype": "text/x-python",
   "name": "python",
   "nbconvert_exporter": "python",
   "pygments_lexer": "ipython3",
   "version": "3.8.10"
  }
 },
 "nbformat": 4,
 "nbformat_minor": 4
}
